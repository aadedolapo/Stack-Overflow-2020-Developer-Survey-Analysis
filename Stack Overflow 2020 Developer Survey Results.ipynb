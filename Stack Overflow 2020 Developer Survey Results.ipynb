{
 "cells": [
  {
   "attachments": {
    "images%20%281%29.png": {
     "image/png": "[encoded data removed]"
    }
   },
   "cell_type": "markdown",
   "metadata": {},
   "source": [
    "![images%20%281%29.png](attachment:images%20%281%29.png)"
   ]
  },
  {
   "cell_type": "markdown",
   "metadata": {},
   "source": [
    "# Stack Overflow 2020 Developer Survey\n",
    "\n",
    "## The Tasks:\n",
    "1. How many developers participated in this survey?\n",
    "2. Find the top 10 countries participating devs are from.\n",
    "3. How many are from Nigeria?\n",
    "4. What's the average age the Nigerian dev wrote their first code?\n",
    "5. What's the average age of the Nigerian dev?\n",
    "6. What are the kinds of employment they are in?\n",
    "7. What's the gender distribution?\n",
    "8. What majors did they study in school?\n",
    "9. What languages have they worked with?\n",
    "10. What's the average number of languages they have worked with?\n",
    "11. What's the average number of years of experience of the Nigerian developer?\n",
    "\n",
    "\n",
    "## Kickers:\n",
    "1. How many devs are women, age below 25 and earn a living from dev?\n",
    "2. What are the 10 most popular languages among Naija Devs?\n",
    "\n",
    "**Ps: Minus gender, ignore missing values in columns in view.**"
   ]
  },
  {
   "cell_type": "code",
   "execution_count": 1,
   "metadata": {},
   "outputs": [],
   "source": [
    "import pandas as pd\n",
    "import numpy as np\n",
    "import matplotlib.pyplot as plt\n",
    "import seaborn as sns\n",
    "import warnings\n",
    "warnings.filterwarnings('ignore')\n",
    "%matplotlib inline\n",
    "plt.style.use('seaborn')"
   ]
  },
  {
   "cell_type": "code",
   "execution_count": 2,
   "metadata": {},
   "outputs": [
    {
     "data": {
      "text/html": [
       "<div>\n",
       "<style scoped>\n",
       "    .dataframe tbody tr th:only-of-type {\n",
       "        vertical-align: middle;\n",
       "    }\n",
       "\n",
       "    .dataframe tbody tr th {\n",
       "        vertical-align: top;\n",
       "    }\n",
       "\n",
       "    .dataframe thead th {\n",
       "        text-align: right;\n",
       "    }\n",
       "</style>\n",
       "<table border=\"1\" class=\"dataframe\">\n",
       "  <thead>\n",
       "    <tr style=\"text-align: right;\">\n",
       "      <th></th>\n",
       "      <th>Respondent</th>\n",
       "      <th>MainBranch</th>\n",
       "      <th>Hobbyist</th>\n",
       "      <th>Age</th>\n",
       "      <th>Age1stCode</th>\n",
       "      <th>CompFreq</th>\n",
       "      <th>CompTotal</th>\n",
       "      <th>ConvertedComp</th>\n",
       "      <th>Country</th>\n",
       "      <th>CurrencyDesc</th>\n",
       "      <th>...</th>\n",
       "      <th>SurveyEase</th>\n",
       "      <th>SurveyLength</th>\n",
       "      <th>Trans</th>\n",
       "      <th>UndergradMajor</th>\n",
       "      <th>WebframeDesireNextYear</th>\n",
       "      <th>WebframeWorkedWith</th>\n",
       "      <th>WelcomeChange</th>\n",
       "      <th>WorkWeekHrs</th>\n",
       "      <th>YearsCode</th>\n",
       "      <th>YearsCodePro</th>\n",
       "    </tr>\n",
       "  </thead>\n",
       "  <tbody>\n",
       "    <tr>\n",
       "      <td>0</td>\n",
       "      <td>1</td>\n",
       "      <td>I am a developer by profession</td>\n",
       "      <td>Yes</td>\n",
       "      <td>NaN</td>\n",
       "      <td>13</td>\n",
       "      <td>Monthly</td>\n",
       "      <td>NaN</td>\n",
       "      <td>NaN</td>\n",
       "      <td>Germany</td>\n",
       "      <td>European Euro</td>\n",
       "      <td>...</td>\n",
       "      <td>Neither easy nor difficult</td>\n",
       "      <td>Appropriate in length</td>\n",
       "      <td>No</td>\n",
       "      <td>Computer science, computer engineering, or sof...</td>\n",
       "      <td>ASP.NET Core</td>\n",
       "      <td>ASP.NET;ASP.NET Core</td>\n",
       "      <td>Just as welcome now as I felt last year</td>\n",
       "      <td>50.0</td>\n",
       "      <td>36</td>\n",
       "      <td>27</td>\n",
       "    </tr>\n",
       "    <tr>\n",
       "      <td>1</td>\n",
       "      <td>2</td>\n",
       "      <td>I am a developer by profession</td>\n",
       "      <td>No</td>\n",
       "      <td>NaN</td>\n",
       "      <td>19</td>\n",
       "      <td>NaN</td>\n",
       "      <td>NaN</td>\n",
       "      <td>NaN</td>\n",
       "      <td>United Kingdom</td>\n",
       "      <td>Pound sterling</td>\n",
       "      <td>...</td>\n",
       "      <td>NaN</td>\n",
       "      <td>NaN</td>\n",
       "      <td>NaN</td>\n",
       "      <td>Computer science, computer engineering, or sof...</td>\n",
       "      <td>NaN</td>\n",
       "      <td>NaN</td>\n",
       "      <td>Somewhat more welcome now than last year</td>\n",
       "      <td>NaN</td>\n",
       "      <td>7</td>\n",
       "      <td>4</td>\n",
       "    </tr>\n",
       "    <tr>\n",
       "      <td>2</td>\n",
       "      <td>3</td>\n",
       "      <td>I code primarily as a hobby</td>\n",
       "      <td>Yes</td>\n",
       "      <td>NaN</td>\n",
       "      <td>15</td>\n",
       "      <td>NaN</td>\n",
       "      <td>NaN</td>\n",
       "      <td>NaN</td>\n",
       "      <td>Russian Federation</td>\n",
       "      <td>NaN</td>\n",
       "      <td>...</td>\n",
       "      <td>Neither easy nor difficult</td>\n",
       "      <td>Appropriate in length</td>\n",
       "      <td>NaN</td>\n",
       "      <td>NaN</td>\n",
       "      <td>NaN</td>\n",
       "      <td>NaN</td>\n",
       "      <td>Somewhat more welcome now than last year</td>\n",
       "      <td>NaN</td>\n",
       "      <td>4</td>\n",
       "      <td>NaN</td>\n",
       "    </tr>\n",
       "    <tr>\n",
       "      <td>3</td>\n",
       "      <td>4</td>\n",
       "      <td>I am a developer by profession</td>\n",
       "      <td>Yes</td>\n",
       "      <td>25.0</td>\n",
       "      <td>18</td>\n",
       "      <td>NaN</td>\n",
       "      <td>NaN</td>\n",
       "      <td>NaN</td>\n",
       "      <td>Albania</td>\n",
       "      <td>Albanian lek</td>\n",
       "      <td>...</td>\n",
       "      <td>NaN</td>\n",
       "      <td>NaN</td>\n",
       "      <td>No</td>\n",
       "      <td>Computer science, computer engineering, or sof...</td>\n",
       "      <td>NaN</td>\n",
       "      <td>NaN</td>\n",
       "      <td>Somewhat less welcome now than last year</td>\n",
       "      <td>40.0</td>\n",
       "      <td>7</td>\n",
       "      <td>4</td>\n",
       "    </tr>\n",
       "    <tr>\n",
       "      <td>4</td>\n",
       "      <td>5</td>\n",
       "      <td>I used to be a developer by profession, but no...</td>\n",
       "      <td>Yes</td>\n",
       "      <td>31.0</td>\n",
       "      <td>16</td>\n",
       "      <td>NaN</td>\n",
       "      <td>NaN</td>\n",
       "      <td>NaN</td>\n",
       "      <td>United States</td>\n",
       "      <td>NaN</td>\n",
       "      <td>...</td>\n",
       "      <td>Easy</td>\n",
       "      <td>Too short</td>\n",
       "      <td>No</td>\n",
       "      <td>Computer science, computer engineering, or sof...</td>\n",
       "      <td>Django;Ruby on Rails</td>\n",
       "      <td>Ruby on Rails</td>\n",
       "      <td>Just as welcome now as I felt last year</td>\n",
       "      <td>NaN</td>\n",
       "      <td>15</td>\n",
       "      <td>8</td>\n",
       "    </tr>\n",
       "  </tbody>\n",
       "</table>\n",
       "<p>5 rows × 61 columns</p>\n",
       "</div>"
      ],
      "text/plain": [
       "   Respondent                                         MainBranch Hobbyist  \\\n",
       "0           1                     I am a developer by profession      Yes   \n",
       "1           2                     I am a developer by profession       No   \n",
       "2           3                        I code primarily as a hobby      Yes   \n",
       "3           4                     I am a developer by profession      Yes   \n",
       "4           5  I used to be a developer by profession, but no...      Yes   \n",
       "\n",
       "    Age Age1stCode CompFreq  CompTotal  ConvertedComp             Country  \\\n",
       "0   NaN         13  Monthly        NaN            NaN             Germany   \n",
       "1   NaN         19      NaN        NaN            NaN      United Kingdom   \n",
       "2   NaN         15      NaN        NaN            NaN  Russian Federation   \n",
       "3  25.0         18      NaN        NaN            NaN             Albania   \n",
       "4  31.0         16      NaN        NaN            NaN       United States   \n",
       "\n",
       "     CurrencyDesc  ...                  SurveyEase           SurveyLength  \\\n",
       "0   European Euro  ...  Neither easy nor difficult  Appropriate in length   \n",
       "1  Pound sterling  ...                         NaN                    NaN   \n",
       "2             NaN  ...  Neither easy nor difficult  Appropriate in length   \n",
       "3    Albanian lek  ...                         NaN                    NaN   \n",
       "4             NaN  ...                        Easy              Too short   \n",
       "\n",
       "  Trans                                     UndergradMajor  \\\n",
       "0    No  Computer science, computer engineering, or sof...   \n",
       "1   NaN  Computer science, computer engineering, or sof...   \n",
       "2   NaN                                                NaN   \n",
       "3    No  Computer science, computer engineering, or sof...   \n",
       "4    No  Computer science, computer engineering, or sof...   \n",
       "\n",
       "  WebframeDesireNextYear    WebframeWorkedWith  \\\n",
       "0           ASP.NET Core  ASP.NET;ASP.NET Core   \n",
       "1                    NaN                   NaN   \n",
       "2                    NaN                   NaN   \n",
       "3                    NaN                   NaN   \n",
       "4   Django;Ruby on Rails         Ruby on Rails   \n",
       "\n",
       "                              WelcomeChange WorkWeekHrs YearsCode YearsCodePro  \n",
       "0   Just as welcome now as I felt last year        50.0        36           27  \n",
       "1  Somewhat more welcome now than last year         NaN         7            4  \n",
       "2  Somewhat more welcome now than last year         NaN         4          NaN  \n",
       "3  Somewhat less welcome now than last year        40.0         7            4  \n",
       "4   Just as welcome now as I felt last year         NaN        15            8  \n",
       "\n",
       "[5 rows x 61 columns]"
      ]
     },
     "execution_count": 2,
     "metadata": {},
     "output_type": "execute_result"
    }
   ],
   "source": [
    "df = pd.read_csv('survey_results_public.csv')\n",
    "df.head()"
   ]
  },
  {
   "cell_type": "code",
   "execution_count": 3,
   "metadata": {},
   "outputs": [
    {
     "data": {
      "text/html": [
       "<div>\n",
       "<style scoped>\n",
       "    .dataframe tbody tr th:only-of-type {\n",
       "        vertical-align: middle;\n",
       "    }\n",
       "\n",
       "    .dataframe tbody tr th {\n",
       "        vertical-align: top;\n",
       "    }\n",
       "\n",
       "    .dataframe thead th {\n",
       "        text-align: right;\n",
       "    }\n",
       "</style>\n",
       "<table border=\"1\" class=\"dataframe\">\n",
       "  <thead>\n",
       "    <tr style=\"text-align: right;\">\n",
       "      <th></th>\n",
       "      <th>Column</th>\n",
       "      <th>QuestionText</th>\n",
       "    </tr>\n",
       "  </thead>\n",
       "  <tbody>\n",
       "    <tr>\n",
       "      <td>0</td>\n",
       "      <td>Respondent</td>\n",
       "      <td>Randomized respondent ID number (not in order ...</td>\n",
       "    </tr>\n",
       "    <tr>\n",
       "      <td>1</td>\n",
       "      <td>MainBranch</td>\n",
       "      <td>Which of the following options best describes ...</td>\n",
       "    </tr>\n",
       "    <tr>\n",
       "      <td>2</td>\n",
       "      <td>Hobbyist</td>\n",
       "      <td>Do you code as a hobby?</td>\n",
       "    </tr>\n",
       "    <tr>\n",
       "      <td>3</td>\n",
       "      <td>Age</td>\n",
       "      <td>What is your age (in years)? If you prefer not...</td>\n",
       "    </tr>\n",
       "    <tr>\n",
       "      <td>4</td>\n",
       "      <td>Age1stCode</td>\n",
       "      <td>At what age did you write your first line of c...</td>\n",
       "    </tr>\n",
       "    <tr>\n",
       "      <td>5</td>\n",
       "      <td>CompFreq</td>\n",
       "      <td>Is that compensation weekly, monthly, or yearly?</td>\n",
       "    </tr>\n",
       "    <tr>\n",
       "      <td>6</td>\n",
       "      <td>CompTotal</td>\n",
       "      <td>What is your current total compensation (salar...</td>\n",
       "    </tr>\n",
       "    <tr>\n",
       "      <td>7</td>\n",
       "      <td>ConvertedComp</td>\n",
       "      <td>Salary converted to annual USD salaries using ...</td>\n",
       "    </tr>\n",
       "    <tr>\n",
       "      <td>8</td>\n",
       "      <td>Country</td>\n",
       "      <td>Where do you live?</td>\n",
       "    </tr>\n",
       "    <tr>\n",
       "      <td>9</td>\n",
       "      <td>CurrencyDesc</td>\n",
       "      <td>Which currency do you use day-to-day? If your ...</td>\n",
       "    </tr>\n",
       "    <tr>\n",
       "      <td>10</td>\n",
       "      <td>CurrencySymbol</td>\n",
       "      <td>Which currency do you use day-to-day? If your ...</td>\n",
       "    </tr>\n",
       "    <tr>\n",
       "      <td>11</td>\n",
       "      <td>DatabaseDesireNextYear</td>\n",
       "      <td>Which database environments have you done exte...</td>\n",
       "    </tr>\n",
       "  </tbody>\n",
       "</table>\n",
       "</div>"
      ],
      "text/plain": [
       "                    Column                                       QuestionText\n",
       "0               Respondent  Randomized respondent ID number (not in order ...\n",
       "1               MainBranch  Which of the following options best describes ...\n",
       "2                 Hobbyist                            Do you code as a hobby?\n",
       "3                      Age  What is your age (in years)? If you prefer not...\n",
       "4               Age1stCode  At what age did you write your first line of c...\n",
       "5                 CompFreq   Is that compensation weekly, monthly, or yearly?\n",
       "6                CompTotal  What is your current total compensation (salar...\n",
       "7            ConvertedComp  Salary converted to annual USD salaries using ...\n",
       "8                  Country                                 Where do you live?\n",
       "9             CurrencyDesc  Which currency do you use day-to-day? If your ...\n",
       "10          CurrencySymbol  Which currency do you use day-to-day? If your ...\n",
       "11  DatabaseDesireNextYear  Which database environments have you done exte..."
      ]
     },
     "execution_count": 3,
     "metadata": {},
     "output_type": "execute_result"
    }
   ],
   "source": [
    "df2 = pd.read_csv('survey_results_schema.csv')\n",
    "df2.head(12)"
   ]
  },
  {
   "cell_type": "code",
   "execution_count": 4,
   "metadata": {},
   "outputs": [
    {
     "data": {
      "text/plain": [
       "(64461, 61)"
      ]
     },
     "execution_count": 4,
     "metadata": {},
     "output_type": "execute_result"
    }
   ],
   "source": [
    "df.shape"
   ]
  },
  {
   "cell_type": "code",
   "execution_count": 5,
   "metadata": {},
   "outputs": [
    {
     "data": {
      "text/plain": [
       "(61, 2)"
      ]
     },
     "execution_count": 5,
     "metadata": {},
     "output_type": "execute_result"
    }
   ],
   "source": [
    "df2.shape"
   ]
  },
  {
   "cell_type": "code",
   "execution_count": 6,
   "metadata": {},
   "outputs": [
    {
     "name": "stdout",
     "output_type": "stream",
     "text": [
      "<class 'pandas.core.frame.DataFrame'>\n",
      "RangeIndex: 64461 entries, 0 to 64460\n",
      "Data columns (total 61 columns):\n",
      "Respondent                      64461 non-null int64\n",
      "MainBranch                      64162 non-null object\n",
      "Hobbyist                        64416 non-null object\n",
      "Age                             45446 non-null float64\n",
      "Age1stCode                      57900 non-null object\n",
      "CompFreq                        40069 non-null object\n",
      "CompTotal                       34826 non-null float64\n",
      "ConvertedComp                   34756 non-null float64\n",
      "Country                         64072 non-null object\n",
      "CurrencyDesc                    45472 non-null object\n",
      "CurrencySymbol                  45472 non-null object\n",
      "DatabaseDesireNextYear          44070 non-null object\n",
      "DatabaseWorkedWith              49537 non-null object\n",
      "DevType                         49370 non-null object\n",
      "EdLevel                         57431 non-null object\n",
      "Employment                      63854 non-null object\n",
      "Ethnicity                       45948 non-null object\n",
      "Gender                          50557 non-null object\n",
      "JobFactors                      49349 non-null object\n",
      "JobSat                          45194 non-null object\n",
      "JobSeek                         51727 non-null object\n",
      "LanguageDesireNextYear          54113 non-null object\n",
      "LanguageWorkedWith              57378 non-null object\n",
      "MiscTechDesireNextYear          42379 non-null object\n",
      "MiscTechWorkedWith              40314 non-null object\n",
      "NEWCollabToolsDesireNextYear    47287 non-null object\n",
      "NEWCollabToolsWorkedWith        52883 non-null object\n",
      "NEWDevOps                       42686 non-null object\n",
      "NEWDevOpsImpt                   41732 non-null object\n",
      "NEWEdImpt                       48465 non-null object\n",
      "NEWJobHunt                      42286 non-null object\n",
      "NEWJobHuntResearch              41022 non-null object\n",
      "NEWLearn                        56156 non-null object\n",
      "NEWOffTopic                     50804 non-null object\n",
      "NEWOnboardGood                  42623 non-null object\n",
      "NEWOtherComms                   57205 non-null object\n",
      "NEWOvertime                     43231 non-null object\n",
      "NEWPurchaseResearch             37321 non-null object\n",
      "NEWPurpleLink                   54803 non-null object\n",
      "NEWSOSites                      58275 non-null object\n",
      "NEWStuck                        54983 non-null object\n",
      "OpSys                           56228 non-null object\n",
      "OrgSize                         44334 non-null object\n",
      "PlatformDesireNextYear          50605 non-null object\n",
      "PlatformWorkedWith              53843 non-null object\n",
      "PurchaseWhat                    39364 non-null object\n",
      "Sexuality                       43992 non-null object\n",
      "SOAccount                       56805 non-null object\n",
      "SOComm                          56476 non-null object\n",
      "SOPartFreq                      46792 non-null object\n",
      "SOVisitFreq                     56970 non-null object\n",
      "SurveyEase                      51802 non-null object\n",
      "SurveyLength                    51701 non-null object\n",
      "Trans                           49345 non-null object\n",
      "UndergradMajor                  50995 non-null object\n",
      "WebframeDesireNextYear          40024 non-null object\n",
      "WebframeWorkedWith              42279 non-null object\n",
      "WelcomeChange                   52683 non-null object\n",
      "WorkWeekHrs                     41151 non-null float64\n",
      "YearsCode                       57684 non-null object\n",
      "YearsCodePro                    46349 non-null object\n",
      "dtypes: float64(4), int64(1), object(56)\n",
      "memory usage: 30.0+ MB\n"
     ]
    }
   ],
   "source": [
    "df.info()"
   ]
  },
  {
   "cell_type": "code",
   "execution_count": 7,
   "metadata": {},
   "outputs": [
    {
     "name": "stdout",
     "output_type": "stream",
     "text": [
      "<class 'pandas.core.frame.DataFrame'>\n",
      "RangeIndex: 61 entries, 0 to 60\n",
      "Data columns (total 2 columns):\n",
      "Column          61 non-null object\n",
      "QuestionText    61 non-null object\n",
      "dtypes: object(2)\n",
      "memory usage: 1.1+ KB\n"
     ]
    }
   ],
   "source": [
    "df2.info()"
   ]
  },
  {
   "cell_type": "code",
   "execution_count": 8,
   "metadata": {},
   "outputs": [
    {
     "data": {
      "text/html": [
       "<div>\n",
       "<style scoped>\n",
       "    .dataframe tbody tr th:only-of-type {\n",
       "        vertical-align: middle;\n",
       "    }\n",
       "\n",
       "    .dataframe tbody tr th {\n",
       "        vertical-align: top;\n",
       "    }\n",
       "\n",
       "    .dataframe thead th {\n",
       "        text-align: right;\n",
       "    }\n",
       "</style>\n",
       "<table border=\"1\" class=\"dataframe\">\n",
       "  <thead>\n",
       "    <tr style=\"text-align: right;\">\n",
       "      <th></th>\n",
       "      <th>Respondent</th>\n",
       "      <th>Age</th>\n",
       "      <th>CompTotal</th>\n",
       "      <th>ConvertedComp</th>\n",
       "      <th>WorkWeekHrs</th>\n",
       "    </tr>\n",
       "  </thead>\n",
       "  <tbody>\n",
       "    <tr>\n",
       "      <td>count</td>\n",
       "      <td>64461.000000</td>\n",
       "      <td>45446.000000</td>\n",
       "      <td>3.482600e+04</td>\n",
       "      <td>3.475600e+04</td>\n",
       "      <td>41151.000000</td>\n",
       "    </tr>\n",
       "    <tr>\n",
       "      <td>mean</td>\n",
       "      <td>32554.079738</td>\n",
       "      <td>30.834111</td>\n",
       "      <td>3.190464e+242</td>\n",
       "      <td>1.037561e+05</td>\n",
       "      <td>40.782174</td>\n",
       "    </tr>\n",
       "    <tr>\n",
       "      <td>std</td>\n",
       "      <td>18967.442360</td>\n",
       "      <td>9.585392</td>\n",
       "      <td>inf</td>\n",
       "      <td>2.268853e+05</td>\n",
       "      <td>17.816383</td>\n",
       "    </tr>\n",
       "    <tr>\n",
       "      <td>min</td>\n",
       "      <td>1.000000</td>\n",
       "      <td>1.000000</td>\n",
       "      <td>0.000000e+00</td>\n",
       "      <td>0.000000e+00</td>\n",
       "      <td>1.000000</td>\n",
       "    </tr>\n",
       "    <tr>\n",
       "      <td>25%</td>\n",
       "      <td>16116.000000</td>\n",
       "      <td>24.000000</td>\n",
       "      <td>2.000000e+04</td>\n",
       "      <td>2.464800e+04</td>\n",
       "      <td>40.000000</td>\n",
       "    </tr>\n",
       "    <tr>\n",
       "      <td>50%</td>\n",
       "      <td>32231.000000</td>\n",
       "      <td>29.000000</td>\n",
       "      <td>6.300000e+04</td>\n",
       "      <td>5.404900e+04</td>\n",
       "      <td>40.000000</td>\n",
       "    </tr>\n",
       "    <tr>\n",
       "      <td>75%</td>\n",
       "      <td>49142.000000</td>\n",
       "      <td>35.000000</td>\n",
       "      <td>1.250000e+05</td>\n",
       "      <td>9.500000e+04</td>\n",
       "      <td>44.000000</td>\n",
       "    </tr>\n",
       "    <tr>\n",
       "      <td>max</td>\n",
       "      <td>65639.000000</td>\n",
       "      <td>279.000000</td>\n",
       "      <td>1.111111e+247</td>\n",
       "      <td>2.000000e+06</td>\n",
       "      <td>475.000000</td>\n",
       "    </tr>\n",
       "  </tbody>\n",
       "</table>\n",
       "</div>"
      ],
      "text/plain": [
       "         Respondent           Age      CompTotal  ConvertedComp   WorkWeekHrs\n",
       "count  64461.000000  45446.000000   3.482600e+04   3.475600e+04  41151.000000\n",
       "mean   32554.079738     30.834111  3.190464e+242   1.037561e+05     40.782174\n",
       "std    18967.442360      9.585392            inf   2.268853e+05     17.816383\n",
       "min        1.000000      1.000000   0.000000e+00   0.000000e+00      1.000000\n",
       "25%    16116.000000     24.000000   2.000000e+04   2.464800e+04     40.000000\n",
       "50%    32231.000000     29.000000   6.300000e+04   5.404900e+04     40.000000\n",
       "75%    49142.000000     35.000000   1.250000e+05   9.500000e+04     44.000000\n",
       "max    65639.000000    279.000000  1.111111e+247   2.000000e+06    475.000000"
      ]
     },
     "execution_count": 8,
     "metadata": {},
     "output_type": "execute_result"
    }
   ],
   "source": [
    "df.describe()"
   ]
  },
  {
   "cell_type": "code",
   "execution_count": 9,
   "metadata": {},
   "outputs": [
    {
     "data": {
      "text/html": [
       "<div>\n",
       "<style scoped>\n",
       "    .dataframe tbody tr th:only-of-type {\n",
       "        vertical-align: middle;\n",
       "    }\n",
       "\n",
       "    .dataframe tbody tr th {\n",
       "        vertical-align: top;\n",
       "    }\n",
       "\n",
       "    .dataframe thead th {\n",
       "        text-align: right;\n",
       "    }\n",
       "</style>\n",
       "<table border=\"1\" class=\"dataframe\">\n",
       "  <thead>\n",
       "    <tr style=\"text-align: right;\">\n",
       "      <th></th>\n",
       "      <th>Column</th>\n",
       "      <th>QuestionText</th>\n",
       "    </tr>\n",
       "  </thead>\n",
       "  <tbody>\n",
       "    <tr>\n",
       "      <td>count</td>\n",
       "      <td>61</td>\n",
       "      <td>61</td>\n",
       "    </tr>\n",
       "    <tr>\n",
       "      <td>unique</td>\n",
       "      <td>61</td>\n",
       "      <td>52</td>\n",
       "    </tr>\n",
       "    <tr>\n",
       "      <td>top</td>\n",
       "      <td>DatabaseWorkedWith</td>\n",
       "      <td>Which of the following describe you, if any? P...</td>\n",
       "    </tr>\n",
       "    <tr>\n",
       "      <td>freq</td>\n",
       "      <td>1</td>\n",
       "      <td>3</td>\n",
       "    </tr>\n",
       "  </tbody>\n",
       "</table>\n",
       "</div>"
      ],
      "text/plain": [
       "                    Column                                       QuestionText\n",
       "count                   61                                                 61\n",
       "unique                  61                                                 52\n",
       "top     DatabaseWorkedWith  Which of the following describe you, if any? P...\n",
       "freq                     1                                                  3"
      ]
     },
     "execution_count": 9,
     "metadata": {},
     "output_type": "execute_result"
    }
   ],
   "source": [
    "df2.describe()"
   ]
  },
  {
   "cell_type": "code",
   "execution_count": 10,
   "metadata": {},
   "outputs": [
    {
     "name": "stdout",
     "output_type": "stream",
     "text": [
      "Respondent\n",
      "False    64461\n",
      "Name: Respondent, dtype: int64\n",
      "\n",
      "MainBranch\n",
      "False    64162\n",
      "True       299\n",
      "Name: MainBranch, dtype: int64\n",
      "\n",
      "Hobbyist\n",
      "False    64416\n",
      "True        45\n",
      "Name: Hobbyist, dtype: int64\n",
      "\n",
      "Age\n",
      "False    45446\n",
      "True     19015\n",
      "Name: Age, dtype: int64\n",
      "\n",
      "Age1stCode\n",
      "False    57900\n",
      "True      6561\n",
      "Name: Age1stCode, dtype: int64\n",
      "\n",
      "CompFreq\n",
      "False    40069\n",
      "True     24392\n",
      "Name: CompFreq, dtype: int64\n",
      "\n",
      "CompTotal\n",
      "False    34826\n",
      "True     29635\n",
      "Name: CompTotal, dtype: int64\n",
      "\n",
      "ConvertedComp\n",
      "False    34756\n",
      "True     29705\n",
      "Name: ConvertedComp, dtype: int64\n",
      "\n",
      "Country\n",
      "False    64072\n",
      "True       389\n",
      "Name: Country, dtype: int64\n",
      "\n",
      "CurrencyDesc\n",
      "False    45472\n",
      "True     18989\n",
      "Name: CurrencyDesc, dtype: int64\n",
      "\n",
      "CurrencySymbol\n",
      "False    45472\n",
      "True     18989\n",
      "Name: CurrencySymbol, dtype: int64\n",
      "\n",
      "DatabaseDesireNextYear\n",
      "False    44070\n",
      "True     20391\n",
      "Name: DatabaseDesireNextYear, dtype: int64\n",
      "\n",
      "DatabaseWorkedWith\n",
      "False    49537\n",
      "True     14924\n",
      "Name: DatabaseWorkedWith, dtype: int64\n",
      "\n",
      "DevType\n",
      "False    49370\n",
      "True     15091\n",
      "Name: DevType, dtype: int64\n",
      "\n",
      "EdLevel\n",
      "False    57431\n",
      "True      7030\n",
      "Name: EdLevel, dtype: int64\n",
      "\n",
      "Employment\n",
      "False    63854\n",
      "True       607\n",
      "Name: Employment, dtype: int64\n",
      "\n",
      "Ethnicity\n",
      "False    45948\n",
      "True     18513\n",
      "Name: Ethnicity, dtype: int64\n",
      "\n",
      "Gender\n",
      "False    50557\n",
      "True     13904\n",
      "Name: Gender, dtype: int64\n",
      "\n",
      "JobFactors\n",
      "False    49349\n",
      "True     15112\n",
      "Name: JobFactors, dtype: int64\n",
      "\n",
      "JobSat\n",
      "False    45194\n",
      "True     19267\n",
      "Name: JobSat, dtype: int64\n",
      "\n",
      "JobSeek\n",
      "False    51727\n",
      "True     12734\n",
      "Name: JobSeek, dtype: int64\n",
      "\n",
      "LanguageDesireNextYear\n",
      "False    54113\n",
      "True     10348\n",
      "Name: LanguageDesireNextYear, dtype: int64\n",
      "\n",
      "LanguageWorkedWith\n",
      "False    57378\n",
      "True      7083\n",
      "Name: LanguageWorkedWith, dtype: int64\n",
      "\n",
      "MiscTechDesireNextYear\n",
      "False    42379\n",
      "True     22082\n",
      "Name: MiscTechDesireNextYear, dtype: int64\n",
      "\n",
      "MiscTechWorkedWith\n",
      "False    40314\n",
      "True     24147\n",
      "Name: MiscTechWorkedWith, dtype: int64\n",
      "\n",
      "NEWCollabToolsDesireNextYear\n",
      "False    47287\n",
      "True     17174\n",
      "Name: NEWCollabToolsDesireNextYear, dtype: int64\n",
      "\n",
      "NEWCollabToolsWorkedWith\n",
      "False    52883\n",
      "True     11578\n",
      "Name: NEWCollabToolsWorkedWith, dtype: int64\n",
      "\n",
      "NEWDevOps\n",
      "False    42686\n",
      "True     21775\n",
      "Name: NEWDevOps, dtype: int64\n",
      "\n",
      "NEWDevOpsImpt\n",
      "False    41732\n",
      "True     22729\n",
      "Name: NEWDevOpsImpt, dtype: int64\n",
      "\n",
      "NEWEdImpt\n",
      "False    48465\n",
      "True     15996\n",
      "Name: NEWEdImpt, dtype: int64\n",
      "\n",
      "NEWJobHunt\n",
      "False    42286\n",
      "True     22175\n",
      "Name: NEWJobHunt, dtype: int64\n",
      "\n",
      "NEWJobHuntResearch\n",
      "False    41022\n",
      "True     23439\n",
      "Name: NEWJobHuntResearch, dtype: int64\n",
      "\n",
      "NEWLearn\n",
      "False    56156\n",
      "True      8305\n",
      "Name: NEWLearn, dtype: int64\n",
      "\n",
      "NEWOffTopic\n",
      "False    50804\n",
      "True     13657\n",
      "Name: NEWOffTopic, dtype: int64\n",
      "\n",
      "NEWOnboardGood\n",
      "False    42623\n",
      "True     21838\n",
      "Name: NEWOnboardGood, dtype: int64\n",
      "\n",
      "NEWOtherComms\n",
      "False    57205\n",
      "True      7256\n",
      "Name: NEWOtherComms, dtype: int64\n",
      "\n",
      "NEWOvertime\n",
      "False    43231\n",
      "True     21230\n",
      "Name: NEWOvertime, dtype: int64\n",
      "\n",
      "NEWPurchaseResearch\n",
      "False    37321\n",
      "True     27140\n",
      "Name: NEWPurchaseResearch, dtype: int64\n",
      "\n",
      "NEWPurpleLink\n",
      "False    54803\n",
      "True      9658\n",
      "Name: NEWPurpleLink, dtype: int64\n",
      "\n",
      "NEWSOSites\n",
      "False    58275\n",
      "True      6186\n",
      "Name: NEWSOSites, dtype: int64\n",
      "\n",
      "NEWStuck\n",
      "False    54983\n",
      "True      9478\n",
      "Name: NEWStuck, dtype: int64\n",
      "\n",
      "OpSys\n",
      "False    56228\n",
      "True      8233\n",
      "Name: OpSys, dtype: int64\n",
      "\n",
      "OrgSize\n",
      "False    44334\n",
      "True     20127\n",
      "Name: OrgSize, dtype: int64\n",
      "\n",
      "PlatformDesireNextYear\n",
      "False    50605\n",
      "True     13856\n",
      "Name: PlatformDesireNextYear, dtype: int64\n",
      "\n",
      "PlatformWorkedWith\n",
      "False    53843\n",
      "True     10618\n",
      "Name: PlatformWorkedWith, dtype: int64\n",
      "\n",
      "PurchaseWhat\n",
      "False    39364\n",
      "True     25097\n",
      "Name: PurchaseWhat, dtype: int64\n",
      "\n",
      "Sexuality\n",
      "False    43992\n",
      "True     20469\n",
      "Name: Sexuality, dtype: int64\n",
      "\n",
      "SOAccount\n",
      "False    56805\n",
      "True      7656\n",
      "Name: SOAccount, dtype: int64\n",
      "\n",
      "SOComm\n",
      "False    56476\n",
      "True      7985\n",
      "Name: SOComm, dtype: int64\n",
      "\n",
      "SOPartFreq\n",
      "False    46792\n",
      "True     17669\n",
      "Name: SOPartFreq, dtype: int64\n",
      "\n",
      "SOVisitFreq\n",
      "False    56970\n",
      "True      7491\n",
      "Name: SOVisitFreq, dtype: int64\n",
      "\n",
      "SurveyEase\n",
      "False    51802\n",
      "True     12659\n",
      "Name: SurveyEase, dtype: int64\n",
      "\n",
      "SurveyLength\n",
      "False    51701\n",
      "True     12760\n",
      "Name: SurveyLength, dtype: int64\n",
      "\n",
      "Trans\n",
      "False    49345\n",
      "True     15116\n",
      "Name: Trans, dtype: int64\n",
      "\n",
      "UndergradMajor\n",
      "False    50995\n",
      "True     13466\n",
      "Name: UndergradMajor, dtype: int64\n",
      "\n",
      "WebframeDesireNextYear\n",
      "False    40024\n",
      "True     24437\n",
      "Name: WebframeDesireNextYear, dtype: int64\n",
      "\n",
      "WebframeWorkedWith\n",
      "False    42279\n",
      "True     22182\n",
      "Name: WebframeWorkedWith, dtype: int64\n",
      "\n",
      "WelcomeChange\n",
      "False    52683\n",
      "True     11778\n",
      "Name: WelcomeChange, dtype: int64\n",
      "\n",
      "WorkWeekHrs\n",
      "False    41151\n",
      "True     23310\n",
      "Name: WorkWeekHrs, dtype: int64\n",
      "\n",
      "YearsCode\n",
      "False    57684\n",
      "True      6777\n",
      "Name: YearsCode, dtype: int64\n",
      "\n",
      "YearsCodePro\n",
      "False    46349\n",
      "True     18112\n",
      "Name: YearsCodePro, dtype: int64\n",
      "\n"
     ]
    }
   ],
   "source": [
    "missing_data = df.isnull()\n",
    "for column in missing_data.columns.values.tolist():\n",
    "    print(column)\n",
    "    print (missing_data[column].value_counts())\n",
    "    print(\"\")    "
   ]
  },
  {
   "cell_type": "markdown",
   "metadata": {},
   "source": [
    "### 1. How many developers participated in this survey?"
   ]
  },
  {
   "cell_type": "code",
   "execution_count": 11,
   "metadata": {},
   "outputs": [
    {
     "name": "stdout",
     "output_type": "stream",
     "text": [
      "The number of Developers that participated in the survey is 64461\n"
     ]
    }
   ],
   "source": [
    "print('The number of Developers that participated in the survey is {}'.format(df['Respondent'].count()))"
   ]
  },
  {
   "cell_type": "markdown",
   "metadata": {},
   "source": [
    "**Creating a function to make plotting easier**"
   ]
  },
  {
   "cell_type": "code",
   "execution_count": 12,
   "metadata": {},
   "outputs": [],
   "source": [
    "def Plot_a_countplot(df,col,title):\n",
    "    \"\"\"\n",
    "    Create a count plot from a value counts \n",
    "    (first ten entires) on the column specified\n",
    "    \n",
    "    Args: \n",
    "        df= Dataframe\n",
    "        col= name of the column in the dataframe\n",
    "        title = desired title of the plot\n",
    "    Return:\n",
    "        A count plot\n",
    "    \"\"\"\n",
    "    plt.figure(figsize=(7,7))\n",
    "    data = df[col].value_counts().head(10)\n",
    "    ax = sns.countplot(y=df[col],\n",
    "                  order=data.index,\n",
    "                  lw=1,\n",
    "                  palette='viridis',\n",
    "                  edgecolor='k'*df[col].nunique()\n",
    "                  )\n",
    "    for x,y in enumerate(data):\n",
    "        ax.text(1.9,x,y,weight='bold',color='white',fontsize=12,bbox=dict(facecolor='black', alpha=0.7))\n",
    "    plt.title(title,fontsize=16)"
   ]
  },
  {
   "cell_type": "markdown",
   "metadata": {},
   "source": [
    "### 2. Find the top 10 countries participating devs are from."
   ]
  },
  {
   "cell_type": "code",
   "execution_count": 13,
   "metadata": {},
   "outputs": [
    {
     "data": {
      "image/png": "[encoded data removed]",
      "text/plain": [
       "<Figure size 504x504 with 1 Axes>"
      ]
     },
     "metadata": {
      "needs_background": "light"
     },
     "output_type": "display_data"
    }
   ],
   "source": [
    "Plot_a_countplot(df, 'Country', 'Top 10 Countries Participating Develpers are from ')"
   ]
  },
  {
   "cell_type": "markdown",
   "metadata": {},
   "source": [
    "**Created a new dataframe for devs from Nigeria**"
   ]
  },
  {
   "cell_type": "code",
   "execution_count": 14,
   "metadata": {},
   "outputs": [],
   "source": [
    "nigeria_devs = df[df['Country']=='Nigeria']"
   ]
  },
  {
   "cell_type": "markdown",
   "metadata": {},
   "source": [
    "### 3. How many are from Nigeria?"
   ]
  },
  {
   "cell_type": "code",
   "execution_count": 15,
   "metadata": {},
   "outputs": [
    {
     "name": "stdout",
     "output_type": "stream",
     "text": [
      "The number of Developers from Nigeria that participated in the survey is 593\n"
     ]
    }
   ],
   "source": [
    "print('The number of Developers from Nigeria that participated in the survey is {}'.format(len(nigeria_devs['MainBranch'])))"
   ]
  },
  {
   "cell_type": "markdown",
   "metadata": {},
   "source": [
    "### 4. What's the average age the Nigerian dev wrote thier first code?"
   ]
  },
  {
   "cell_type": "code",
   "execution_count": 16,
   "metadata": {},
   "outputs": [],
   "source": [
    "nigeria_devs['Age1stCode'] = pd.to_numeric(nigeria_devs['Age1stCode'])"
   ]
  },
  {
   "cell_type": "code",
   "execution_count": 17,
   "metadata": {},
   "outputs": [
    {
     "name": "stdout",
     "output_type": "stream",
     "text": [
      "The Average Age the Nigerian Developer wrote his/her first code is 19\n"
     ]
    }
   ],
   "source": [
    "print('The Average Age the Nigerian Developer wrote his/her first code is {}'.format(int(np.mean(nigeria_devs['Age1stCode']))))"
   ]
  },
  {
   "cell_type": "markdown",
   "metadata": {},
   "source": [
    "### 5. What's the average age of the Nigerian dev?"
   ]
  },
  {
   "cell_type": "code",
   "execution_count": 18,
   "metadata": {},
   "outputs": [
    {
     "name": "stdout",
     "output_type": "stream",
     "text": [
      "The Average Age of the Nigerian Developer is 25\n"
     ]
    }
   ],
   "source": [
    "print('The Average Age of the Nigerian Developer is {}'.format(int(np.mean(nigeria_devs['Age']))))"
   ]
  },
  {
   "cell_type": "markdown",
   "metadata": {},
   "source": [
    "### 6. What are the kinds of employment they are in?"
   ]
  },
  {
   "cell_type": "code",
   "execution_count": 19,
   "metadata": {},
   "outputs": [
    {
     "data": {
      "image/png": "[encoded data removed]",
      "text/plain": [
       "<Figure size 504x504 with 1 Axes>"
      ]
     },
     "metadata": {
      "needs_background": "light"
     },
     "output_type": "display_data"
    }
   ],
   "source": [
    "Plot_a_countplot(nigeria_devs,'Employment','Kinds of Employment Nigerian Developers are in')"
   ]
  },
  {
   "cell_type": "markdown",
   "metadata": {},
   "source": [
    "### 7. What's the gender distribution?"
   ]
  },
  {
   "cell_type": "code",
   "execution_count": 20,
   "metadata": {},
   "outputs": [
    {
     "data": {
      "image/png": "[encoded data removed]",
      "text/plain": [
       "<Figure size 504x504 with 1 Axes>"
      ]
     },
     "metadata": {
      "needs_background": "light"
     },
     "output_type": "display_data"
    }
   ],
   "source": [
    "Plot_a_countplot(nigeria_devs, 'Gender','Gender Distribution of Nigerian Developers')"
   ]
  },
  {
   "cell_type": "markdown",
   "metadata": {},
   "source": [
    "###  8. Whats majors did they study in school?"
   ]
  },
  {
   "cell_type": "code",
   "execution_count": 21,
   "metadata": {},
   "outputs": [],
   "source": [
    "nigeria_devs.replace(np.nan, 'No response', inplace=True)"
   ]
  },
  {
   "cell_type": "code",
   "execution_count": 22,
   "metadata": {},
   "outputs": [],
   "source": [
    "nigeria_devs.loc[nigeria_devs['UndergradMajor'].str.contains('Fine'), ['UndergradMajor']] = 'Fine Arts'\n",
    "nigeria_devs.loc[nigeria_devs['UndergradMajor'].str.contains('computer'), ['UndergradMajor']] = 'Computer Science'\n",
    "nigeria_devs.loc[nigeria_devs['UndergradMajor'].str.contains('engineering'), ['UndergradMajor']] = 'Engineering Discipline'\n",
    "nigeria_devs.loc[nigeria_devs['UndergradMajor'].str.contains('natural'), ['UndergradMajor']] = 'Natural Science'\n",
    "nigeria_devs.loc[nigeria_devs['UndergradMajor'].str.contains('Infor'), ['UndergradMajor']] = 'Information Systems/Tech'\n",
    "nigeria_devs.loc[nigeria_devs['UndergradMajor'].str.contains('business'), ['UndergradMajor']] = 'Business Discipline'\n",
    "nigeria_devs.loc[nigeria_devs['UndergradMajor'].str.contains('health'), ['UndergradMajor']] = 'Health Science'\n",
    "nigeria_devs.loc[nigeria_devs['UndergradMajor'].str.contains('social'), ['UndergradMajor']] = 'Social Science'\n",
    "nigeria_devs.loc[nigeria_devs['UndergradMajor'].str.contains('human'), ['UndergradMajor']] = 'Humanities Discipline'\n",
    "nigeria_devs.loc[nigeria_devs['UndergradMajor'].str.contains('Web'), ['UndergradMajor']] = 'Web Development or Design'"
   ]
  },
  {
   "cell_type": "code",
   "execution_count": 23,
   "metadata": {},
   "outputs": [
    {
     "data": {
      "text/plain": [
       "No response                  200\n",
       "Computer Science             192\n",
       "Engineering Discipline        62\n",
       "Natural Science               32\n",
       "Mathematics or statistics     24\n",
       "Information Systems/Tech      23\n",
       "Business Discipline           18\n",
       "Health Science                10\n",
       "Humanities Discipline          9\n",
       "Social Science                 9\n",
       "Web Development or Design      8\n",
       "Fine Arts                      3\n",
       "I never declared a major       3\n",
       "Name: UndergradMajor, dtype: int64"
      ]
     },
     "execution_count": 23,
     "metadata": {},
     "output_type": "execute_result"
    }
   ],
   "source": [
    "nigeria_devs['UndergradMajor'].value_counts()"
   ]
  },
  {
   "cell_type": "code",
   "execution_count": 24,
   "metadata": {},
   "outputs": [
    {
     "data": {
      "image/png": "[encoded data removed]",
      "text/plain": [
       "<Figure size 504x504 with 1 Axes>"
      ]
     },
     "metadata": {
      "needs_background": "light"
     },
     "output_type": "display_data"
    }
   ],
   "source": [
    "Plot_a_countplot(nigeria_devs, 'UndergradMajor','Top 10 Majors studied in School by Nigerian Developers')"
   ]
  },
  {
   "cell_type": "markdown",
   "metadata": {},
   "source": [
    "**Please Note: \"NO response\" is not a Major. It simply means the participants didn't input any programming language**"
   ]
  },
  {
   "cell_type": "markdown",
   "metadata": {},
   "source": [
    "### 9. What languages have they worked with?"
   ]
  },
  {
   "cell_type": "code",
   "execution_count": 25,
   "metadata": {},
   "outputs": [
    {
     "data": {
      "text/plain": [
       "{'Assembly',\n",
       " 'Bash/Shell/PowerShell',\n",
       " 'C',\n",
       " 'C#',\n",
       " 'C++',\n",
       " 'Dart',\n",
       " 'Go',\n",
       " 'HTML/CSS',\n",
       " 'Haskell',\n",
       " 'Java',\n",
       " 'JavaScript',\n",
       " 'Kotlin',\n",
       " 'No response',\n",
       " 'Objective-C',\n",
       " 'PHP',\n",
       " 'Perl',\n",
       " 'Python',\n",
       " 'R',\n",
       " 'Ruby',\n",
       " 'Rust',\n",
       " 'SQL',\n",
       " 'Scala',\n",
       " 'Swift',\n",
       " 'TypeScript',\n",
       " 'VBA'}"
      ]
     },
     "execution_count": 25,
     "metadata": {},
     "output_type": "execute_result"
    }
   ],
   "source": [
    "language = {line for line in nigeria_devs['LanguageWorkedWith'] for line in line.split(';')}\n",
    "language "
   ]
  },
  {
   "cell_type": "markdown",
   "metadata": {},
   "source": [
    "**Please note, \"No response\" is not a programming language. It simply means the participants didn't input any programming language**"
   ]
  },
  {
   "cell_type": "markdown",
   "metadata": {},
   "source": [
    "### 10. What's the average number of languages they have worked with?"
   ]
  },
  {
   "cell_type": "code",
   "execution_count": 26,
   "metadata": {},
   "outputs": [
    {
     "name": "stdout",
     "output_type": "stream",
     "text": [
      "The Average number of languages the Nigerian Developer have worked with is 4\n"
     ]
    }
   ],
   "source": [
    "languages = []\n",
    "for line in nigeria_devs['LanguageWorkedWith'].str.split(';'):\n",
    "        languages.append(len(line))\n",
    "languages = pd.DataFrame(languages,columns=['Languages'])\n",
    "print('The Average number of languages the Nigerian Developer have worked with is {}'\\\n",
    "      .format(round(np.mean(languages['Languages']))))"
   ]
  },
  {
   "cell_type": "markdown",
   "metadata": {},
   "source": [
    "### 11. What's the average number of years of experience of the Nigerian developer?"
   ]
  },
  {
   "cell_type": "markdown",
   "metadata": {},
   "source": [
    "In order to calculate the average years of experience of the Nigerian Developers, I had to change some things. \n",
    "\n",
    "1. I changed the **less than 1 year** entry to an interger 1 (i.e 1 year of experience).\n",
    "2. I changed the **No response** entry to interger 0 (i.e no experience)"
   ]
  },
  {
   "cell_type": "code",
   "execution_count": 27,
   "metadata": {},
   "outputs": [],
   "source": [
    "nigeria_devs['YearsCode'].replace('Less than 1 year', 1, inplace=True)\n",
    "nigeria_devs['YearsCode'].replace('No response', 0, inplace=True)"
   ]
  },
  {
   "cell_type": "code",
   "execution_count": 28,
   "metadata": {},
   "outputs": [
    {
     "name": "stdout",
     "output_type": "stream",
     "text": [
      "The Average number of years of experience of the Nigerian developer is 4.627318718381113\n"
     ]
    }
   ],
   "source": [
    "nigeria_devs['YearsCode'] = pd.to_numeric(nigeria_devs['YearsCode'])\n",
    "print('The Average number of years of experience of the Nigerian developer is {}'\\\n",
    "      .format(np.mean(nigeria_devs['YearsCode'])))"
   ]
  },
  {
   "cell_type": "markdown",
   "metadata": {},
   "source": [
    "# Kickers"
   ]
  },
  {
   "cell_type": "markdown",
   "metadata": {},
   "source": [
    "### 1. How many devs are women, age below 25 and earn a living from dev?"
   ]
  },
  {
   "cell_type": "code",
   "execution_count": 29,
   "metadata": {},
   "outputs": [
    {
     "name": "stdout",
     "output_type": "stream",
     "text": [
      "342 Women are below the age of 25 and they also earn a living as a Developer\n"
     ]
    }
   ],
   "source": [
    "kicker1 = len(df[(df['Gender']=='Woman') & (df['Age'] < 25) & (df['CompTotal']> 0.0)])\n",
    "print('{} Women are below the age of 25 and they also earn a living as a Developer'.format(kicker1))"
   ]
  },
  {
   "cell_type": "markdown",
   "metadata": {},
   "source": [
    "### 2. What are the 10 most popular languages among Naija Devs?"
   ]
  },
  {
   "cell_type": "code",
   "execution_count": 30,
   "metadata": {},
   "outputs": [],
   "source": [
    "languages_devs = [line for line in nigeria_devs['LanguageWorkedWith'] for line in line.split(';')]\n",
    "kicker2 = pd.DataFrame(languages_devs,columns=['Languages'])"
   ]
  },
  {
   "cell_type": "code",
   "execution_count": 31,
   "metadata": {},
   "outputs": [
    {
     "data": {
      "image/png": "[encoded data removed]",
      "text/plain": [
       "<Figure size 504x504 with 1 Axes>"
      ]
     },
     "metadata": {
      "needs_background": "light"
     },
     "output_type": "display_data"
    }
   ],
   "source": [
    "Plot_a_countplot(kicker2, 'Languages','Top 10 most popular languages among Nigerian Developers')"
   ]
  },
  {
   "cell_type": "markdown",
   "metadata": {},
   "source": [
    "### Adebo Dolapo"
   ]
  }
 ],
 "metadata": {
  "kernelspec": {
   "display_name": "Python 3",
   "language": "python",
   "name": "python3"
  },
  "language_info": {
   "codemirror_mode": {
    "name": "ipython",
    "version": 3
   },
   "file_extension": ".py",
   "mimetype": "text/x-python",
   "name": "python",
   "nbconvert_exporter": "python",
   "pygments_lexer": "ipython3",
   "version": "3.7.4"
  }
 },
 "nbformat": 4,
 "nbformat_minor": 2
}
